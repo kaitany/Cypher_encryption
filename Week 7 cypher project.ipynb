{
 "cells": [
  {
   "cell_type": "code",
   "execution_count": 1,
   "id": "b6ca4f0c",
   "metadata": {},
   "outputs": [
    {
     "name": "stdout",
     "output_type": "stream",
     "text": [
      "welcome to caesar_cypher encryption\n",
      "**********************************\n",
      "enter a message to encrypt: THE QUICK BROWN FOX JUMPS OVER THE LAZY DOG\n",
      "Encrypted text: QEB  NRFZH  YOLTK  CLU  GRJMP  LSBO  QEB  IXWV  ALD\n"
     ]
    }
   ],
   "source": [
    "print('welcome to caesar_cypher encryption\\n**********************************')\n",
    "\n",
    "text=input('enter a message to encrypt: ')\n",
    "\n",
    "shift = 3 # defining the shift count i.e\n",
    "\n",
    "#text =\"the quick brown fox jumps over the lazy dog\"\n",
    "\n",
    "encryption = ''\n",
    "\n",
    "for c in text:\n",
    "\n",
    "    #check for spaces between text and add to the encryption\n",
    "    if c == ' ':\n",
    "        encryption+= c \n",
    "        \n",
    "        # check if character is an uppercase letter\n",
    "    if c.isupper():\n",
    "\n",
    "        # find the position in 0-25\n",
    "        c_unicode = ord(c)\n",
    "\n",
    "        c_index = ord(c) - ord(\"A\")\n",
    "\n",
    "        # perform the shift\n",
    "        new_index = (c_index - shift) % 26\n",
    "\n",
    "        # convert to new character\n",
    "        new_unicode = new_index + ord(\"A\") \n",
    "\n",
    "        new_character = chr(new_unicode)\n",
    "\n",
    "        # append to encrypted string\n",
    "        encryption += new_character\n",
    "        \n",
    "    elif c.islower():\n",
    "        \n",
    "       #character is lowercase\n",
    "        c_index = ord(c) - ord('a')\n",
    "        \n",
    "          # perform the shift\n",
    "        new_index = (c_index - shift) % 26\n",
    "\n",
    "          # convert to new character\n",
    "        new_unicode = new_index + ord(\"a\")\n",
    "\n",
    "        new_character = chr(new_unicode)\n",
    "        \n",
    "        # append to encrypted string\n",
    "        encryption += new_character\n",
    "    \n",
    "    else:\n",
    "        encryption+= c\n",
    "\n",
    "print(f'Encrypted text: {encryption}')"
   ]
  }
 ],
 "metadata": {
  "kernelspec": {
   "display_name": "Python 3 (ipykernel)",
   "language": "python",
   "name": "python3"
  },
  "language_info": {
   "codemirror_mode": {
    "name": "ipython",
    "version": 3
   },
   "file_extension": ".py",
   "mimetype": "text/x-python",
   "name": "python",
   "nbconvert_exporter": "python",
   "pygments_lexer": "ipython3",
   "version": "3.10.9"
  }
 },
 "nbformat": 4,
 "nbformat_minor": 5
}
